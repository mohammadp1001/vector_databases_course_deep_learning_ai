{
 "cells": [
  {
   "cell_type": "code",
   "execution_count": 4,
   "id": "9139ebff",
   "metadata": {},
   "outputs": [],
   "source": [
    "import os\n",
    "from dotenv import load_dotenv\n",
    "import weaviate"
   ]
  },
  {
   "cell_type": "code",
   "execution_count": 5,
   "id": "e1c282de",
   "metadata": {},
   "outputs": [
    {
     "ename": "WeaviateStartUpError",
     "evalue": "Windows is not supported with EmbeddedDB. Please upvote this feature request if you want\n                 this: https://github.com/weaviate/weaviate/issues/3315",
     "output_type": "error",
     "traceback": [
      "\u001b[31m---------------------------------------------------------------------------\u001b[39m",
      "\u001b[31mWeaviateStartUpError\u001b[39m                      Traceback (most recent call last)",
      "\u001b[36mCell\u001b[39m\u001b[36m \u001b[39m\u001b[32mIn[5]\u001b[39m\u001b[32m, line 4\u001b[39m\n\u001b[32m      1\u001b[39m load_dotenv()  \u001b[38;5;66;03m# Load environment variables from .env file\u001b[39;00m\n\u001b[32m      2\u001b[39m weaviate_version = \u001b[33m\"\u001b[39m\u001b[33m4.17.0\u001b[39m\u001b[33m\"\u001b[39m \u001b[38;5;66;03m# Replace with the version you want to use\u001b[39;00m\n\u001b[32m----> \u001b[39m\u001b[32m4\u001b[39m client = \u001b[43mweaviate\u001b[49m\u001b[43m.\u001b[49m\u001b[43mconnect_to_embedded\u001b[49m\u001b[43m(\u001b[49m\n\u001b[32m      5\u001b[39m \u001b[43m    \u001b[49m\u001b[43mversion\u001b[49m\u001b[43m=\u001b[49m\u001b[43mweaviate_version\u001b[49m\u001b[43m,\u001b[49m\u001b[43m  \u001b[49m\u001b[38;5;66;43;03m# e.g. version=\"1.33.0\"\u001b[39;49;00m\n\u001b[32m      6\u001b[39m \u001b[43m    \u001b[49m\u001b[43mheaders\u001b[49m\u001b[43m=\u001b[49m\u001b[43m{\u001b[49m\n\u001b[32m      7\u001b[39m \u001b[43m        \u001b[49m\u001b[33;43m\"\u001b[39;49m\u001b[33;43mX-OpenAI-Api-Key\u001b[39;49m\u001b[33;43m\"\u001b[39;49m\u001b[43m:\u001b[49m\u001b[43m \u001b[49m\u001b[43mos\u001b[49m\u001b[43m.\u001b[49m\u001b[43mgetenv\u001b[49m\u001b[43m(\u001b[49m\u001b[33;43m\"\u001b[39;49m\u001b[33;43mOPENAI_APIKEY\u001b[39;49m\u001b[33;43m\"\u001b[39;49m\u001b[43m)\u001b[49m\u001b[43m  \u001b[49m\u001b[38;5;66;43;03m# Replace with your API key\u001b[39;49;00m\n\u001b[32m      8\u001b[39m \u001b[43m    \u001b[49m\u001b[43m}\u001b[49m\u001b[43m,\u001b[49m\n\u001b[32m      9\u001b[39m \u001b[43m    \u001b[49m\u001b[43menvironment_variables\u001b[49m\u001b[43m=\u001b[49m\u001b[43m{\u001b[49m\u001b[33;43m\"\u001b[39;49m\u001b[33;43mLOG_LEVEL\u001b[39;49m\u001b[33;43m\"\u001b[39;49m\u001b[43m:\u001b[49m\u001b[43m \u001b[49m\u001b[33;43m\"\u001b[39;49m\u001b[33;43merror\u001b[39;49m\u001b[33;43m\"\u001b[39;49m\u001b[43m}\u001b[49m\u001b[43m  \u001b[49m\u001b[38;5;66;43;03m# Reduce amount of logs\u001b[39;49;00m\n\u001b[32m     10\u001b[39m \u001b[43m)\u001b[49m\n\u001b[32m     12\u001b[39m \u001b[38;5;66;03m# Add your client code here.\u001b[39;00m\n",
      "\u001b[36mFile \u001b[39m\u001b[32mc:\\Users\\Mohammad\\courses\\vector_databases_course_deep_learning_ai\\.venv\\Lib\\site-packages\\weaviate\\connect\\helpers.py:274\u001b[39m, in \u001b[36mconnect_to_embedded\u001b[39m\u001b[34m(hostname, port, grpc_port, headers, additional_config, version, persistence_data_path, binary_path, environment_variables)\u001b[39m\n\u001b[32m    272\u001b[39m \u001b[38;5;28;01mif\u001b[39;00m binary_path \u001b[38;5;129;01mis\u001b[39;00m \u001b[38;5;129;01mnot\u001b[39;00m \u001b[38;5;28;01mNone\u001b[39;00m:\n\u001b[32m    273\u001b[39m     options.binary_path = binary_path\n\u001b[32m--> \u001b[39m\u001b[32m274\u001b[39m client = \u001b[43mWeaviateClient\u001b[49m\u001b[43m(\u001b[49m\n\u001b[32m    275\u001b[39m \u001b[43m    \u001b[49m\u001b[43membedded_options\u001b[49m\u001b[43m=\u001b[49m\u001b[43moptions\u001b[49m\u001b[43m,\u001b[49m\n\u001b[32m    276\u001b[39m \u001b[43m    \u001b[49m\u001b[43madditional_headers\u001b[49m\u001b[43m=\u001b[49m\u001b[43mheaders\u001b[49m\u001b[43m,\u001b[49m\n\u001b[32m    277\u001b[39m \u001b[43m    \u001b[49m\u001b[43madditional_config\u001b[49m\u001b[43m=\u001b[49m\u001b[43madditional_config\u001b[49m\u001b[43m,\u001b[49m\n\u001b[32m    278\u001b[39m \u001b[43m\u001b[49m\u001b[43m)\u001b[49m\n\u001b[32m    279\u001b[39m \u001b[38;5;28;01mreturn\u001b[39;00m __connect(client)\n",
      "\u001b[36mFile \u001b[39m\u001b[32mc:\\Users\\Mohammad\\courses\\vector_databases_course_deep_learning_ai\\.venv\\Lib\\site-packages\\weaviate\\client.py:134\u001b[39m, in \u001b[36mWeaviateClient.__init__\u001b[39m\u001b[34m(self, connection_params, embedded_options, auth_client_secret, additional_headers, additional_config, skip_init_checks)\u001b[39m\n\u001b[32m    124\u001b[39m \u001b[38;5;28;01mdef\u001b[39;00m\u001b[38;5;250m \u001b[39m\u001b[34m__init__\u001b[39m(\n\u001b[32m    125\u001b[39m     \u001b[38;5;28mself\u001b[39m,\n\u001b[32m    126\u001b[39m     connection_params: Optional[ConnectionParams] = \u001b[38;5;28;01mNone\u001b[39;00m,\n\u001b[32m   (...)\u001b[39m\u001b[32m    131\u001b[39m     skip_init_checks: \u001b[38;5;28mbool\u001b[39m = \u001b[38;5;28;01mFalse\u001b[39;00m,\n\u001b[32m    132\u001b[39m ) -> \u001b[38;5;28;01mNone\u001b[39;00m:\n\u001b[32m    133\u001b[39m     \u001b[38;5;28mself\u001b[39m._connection_type = ConnectionSync\n\u001b[32m--> \u001b[39m\u001b[32m134\u001b[39m     \u001b[38;5;28;43msuper\u001b[39;49m\u001b[43m(\u001b[49m\u001b[43m)\u001b[49m\u001b[43m.\u001b[49m\u001b[34;43m__init__\u001b[39;49m\u001b[43m(\u001b[49m\n\u001b[32m    135\u001b[39m \u001b[43m        \u001b[49m\u001b[43mconnection_params\u001b[49m\u001b[43m=\u001b[49m\u001b[43mconnection_params\u001b[49m\u001b[43m,\u001b[49m\n\u001b[32m    136\u001b[39m \u001b[43m        \u001b[49m\u001b[43membedded_options\u001b[49m\u001b[43m=\u001b[49m\u001b[43membedded_options\u001b[49m\u001b[43m,\u001b[49m\n\u001b[32m    137\u001b[39m \u001b[43m        \u001b[49m\u001b[43mauth_client_secret\u001b[49m\u001b[43m=\u001b[49m\u001b[43mauth_client_secret\u001b[49m\u001b[43m,\u001b[49m\n\u001b[32m    138\u001b[39m \u001b[43m        \u001b[49m\u001b[43madditional_headers\u001b[49m\u001b[43m=\u001b[49m\u001b[43madditional_headers\u001b[49m\u001b[43m,\u001b[49m\n\u001b[32m    139\u001b[39m \u001b[43m        \u001b[49m\u001b[43madditional_config\u001b[49m\u001b[43m=\u001b[49m\u001b[43madditional_config\u001b[49m\u001b[43m,\u001b[49m\n\u001b[32m    140\u001b[39m \u001b[43m        \u001b[49m\u001b[43mskip_init_checks\u001b[49m\u001b[43m=\u001b[49m\u001b[43mskip_init_checks\u001b[49m\u001b[43m,\u001b[49m\n\u001b[32m    141\u001b[39m \u001b[43m    \u001b[49m\u001b[43m)\u001b[49m\n\u001b[32m    143\u001b[39m     collections = _Collections(\u001b[38;5;28mself\u001b[39m._connection)\n\u001b[32m    145\u001b[39m     \u001b[38;5;28mself\u001b[39m.alias = _Alias(\n\u001b[32m    146\u001b[39m         \u001b[38;5;28mself\u001b[39m._connection,\n\u001b[32m    147\u001b[39m     )\n",
      "\u001b[36mFile \u001b[39m\u001b[32mc:\\Users\\Mohammad\\courses\\vector_databases_course_deep_learning_ai\\.venv\\Lib\\site-packages\\weaviate\\client_executor.py:67\u001b[39m, in \u001b[36m_WeaviateClientExecutor.__init__\u001b[39m\u001b[34m(self, connection_params, embedded_options, auth_client_secret, additional_headers, additional_config, skip_init_checks)\u001b[39m\n\u001b[32m     37\u001b[39m \u001b[38;5;28;01mdef\u001b[39;00m\u001b[38;5;250m \u001b[39m\u001b[34m__init__\u001b[39m(\n\u001b[32m     38\u001b[39m     \u001b[38;5;28mself\u001b[39m,\n\u001b[32m     39\u001b[39m     connection_params: Optional[ConnectionParams] = \u001b[38;5;28;01mNone\u001b[39;00m,\n\u001b[32m   (...)\u001b[39m\u001b[32m     44\u001b[39m     skip_init_checks: \u001b[38;5;28mbool\u001b[39m = \u001b[38;5;28;01mFalse\u001b[39;00m,\n\u001b[32m     45\u001b[39m ) -> \u001b[38;5;28;01mNone\u001b[39;00m:\n\u001b[32m     46\u001b[39m \u001b[38;5;250m    \u001b[39m\u001b[33;03m\"\"\"Initialise a WeaviateClient/WeaviateClientAsync class instance to use when interacting with Weaviate.\u001b[39;00m\n\u001b[32m     47\u001b[39m \n\u001b[32m     48\u001b[39m \u001b[33;03m    Use this specific initializer when you want to create a custom Client specific to your Weaviate setup.\u001b[39;00m\n\u001b[32m   (...)\u001b[39m\u001b[32m     65\u001b[39m \u001b[33;03m            This is useful for air-gapped environments and high-performance setups.\u001b[39;00m\n\u001b[32m     66\u001b[39m \u001b[33;03m    \"\"\"\u001b[39;00m\n\u001b[32m---> \u001b[39m\u001b[32m67\u001b[39m     connection_params, embedded_db = \u001b[38;5;28;43mself\u001b[39;49m\u001b[43m.\u001b[49m\u001b[43m__parse_connection_params_and_embedded_db\u001b[49m\u001b[43m(\u001b[49m\n\u001b[32m     68\u001b[39m \u001b[43m        \u001b[49m\u001b[43mconnection_params\u001b[49m\u001b[43m,\u001b[49m\u001b[43m \u001b[49m\u001b[43membedded_options\u001b[49m\n\u001b[32m     69\u001b[39m \u001b[43m    \u001b[49m\u001b[43m)\u001b[49m\n\u001b[32m     70\u001b[39m     config = additional_config \u001b[38;5;129;01mor\u001b[39;00m AdditionalConfig()\n\u001b[32m     72\u001b[39m     \u001b[38;5;28mself\u001b[39m._connection = \u001b[38;5;28mself\u001b[39m._connection_type(  \u001b[38;5;66;03m# pyright: ignore reportIncompatibleVariableOverride\u001b[39;00m\n\u001b[32m     73\u001b[39m         connection_params=connection_params,\n\u001b[32m     74\u001b[39m         auth_client_secret=auth_client_secret,\n\u001b[32m   (...)\u001b[39m\u001b[32m     81\u001b[39m         skip_init_checks=skip_init_checks,\n\u001b[32m     82\u001b[39m     )\n",
      "\u001b[36mFile \u001b[39m\u001b[32mc:\\Users\\Mohammad\\courses\\vector_databases_course_deep_learning_ai\\.venv\\Lib\\site-packages\\weaviate\\client_executor.py:103\u001b[39m, in \u001b[36m_WeaviateClientExecutor.__parse_connection_params_and_embedded_db\u001b[39m\u001b[34m(self, connection_params, embedded_options)\u001b[39m\n\u001b[32m     98\u001b[39m \u001b[38;5;28;01mif\u001b[39;00m embedded_options \u001b[38;5;129;01mis\u001b[39;00m \u001b[38;5;129;01mnot\u001b[39;00m \u001b[38;5;28;01mNone\u001b[39;00m:\n\u001b[32m     99\u001b[39m     _validate_input(\n\u001b[32m    100\u001b[39m         _ValidateArgument([EmbeddedOptions], \u001b[33m\"\u001b[39m\u001b[33membedded_options\u001b[39m\u001b[33m\"\u001b[39m, embedded_options)\n\u001b[32m    101\u001b[39m     )\n\u001b[32m--> \u001b[39m\u001b[32m103\u001b[39m     embedded_db = \u001b[43mEmbeddedV4\u001b[49m\u001b[43m(\u001b[49m\u001b[43moptions\u001b[49m\u001b[43m=\u001b[49m\u001b[43membedded_options\u001b[49m\u001b[43m)\u001b[49m\n\u001b[32m    104\u001b[39m     embedded_db.start()\n\u001b[32m    105\u001b[39m     \u001b[38;5;28;01mreturn\u001b[39;00m (\n\u001b[32m    106\u001b[39m         ConnectionParams(\n\u001b[32m    107\u001b[39m             http=ProtocolParams(\n\u001b[32m   (...)\u001b[39m\u001b[32m    114\u001b[39m         embedded_db,\n\u001b[32m    115\u001b[39m     )\n",
      "\u001b[36mFile \u001b[39m\u001b[32mc:\\Users\\Mohammad\\courses\\vector_databases_course_deep_learning_ai\\.venv\\Lib\\site-packages\\weaviate\\embedded.py:61\u001b[39m, in \u001b[36m_EmbeddedBase.__init__\u001b[39m\u001b[34m(self, options)\u001b[39m\n\u001b[32m     59\u001b[39m \u001b[38;5;28mself\u001b[39m.process: Optional[subprocess.Popen[\u001b[38;5;28mbytes\u001b[39m]] = \u001b[38;5;28;01mNone\u001b[39;00m\n\u001b[32m     60\u001b[39m \u001b[38;5;28mself\u001b[39m.ensure_paths_exist()\n\u001b[32m---> \u001b[39m\u001b[32m61\u001b[39m \u001b[38;5;28;43mself\u001b[39;49m\u001b[43m.\u001b[49m\u001b[43mcheck_supported_platform\u001b[49m\u001b[43m(\u001b[49m\u001b[43m)\u001b[49m\n\u001b[32m     62\u001b[39m \u001b[38;5;28mself\u001b[39m._parsed_weaviate_version = \u001b[33m\"\u001b[39m\u001b[33m\"\u001b[39m\n\u001b[32m     63\u001b[39m \u001b[38;5;66;03m# regular expression to detect a version number: v[one digit].[1-2 digits].[1-2 digits]\u001b[39;00m\n\u001b[32m     64\u001b[39m \u001b[38;5;66;03m# optionally there can be a \"-rc/alpha/beta.[1-2 digits]\"\u001b[39;00m\n\u001b[32m     65\u001b[39m \u001b[38;5;66;03m# nothing in front or back\u001b[39;00m\n",
      "\u001b[36mFile \u001b[39m\u001b[32mc:\\Users\\Mohammad\\courses\\vector_databases_course_deep_learning_ai\\.venv\\Lib\\site-packages\\weaviate\\embedded.py:179\u001b[39m, in \u001b[36m_EmbeddedBase.check_supported_platform\u001b[39m\u001b[34m()\u001b[39m\n\u001b[32m    176\u001b[39m \u001b[38;5;129m@staticmethod\u001b[39m\n\u001b[32m    177\u001b[39m \u001b[38;5;28;01mdef\u001b[39;00m\u001b[38;5;250m \u001b[39m\u001b[34mcheck_supported_platform\u001b[39m() -> \u001b[38;5;28;01mNone\u001b[39;00m:\n\u001b[32m    178\u001b[39m     \u001b[38;5;28;01mif\u001b[39;00m platform.system() \u001b[38;5;129;01min\u001b[39;00m [\u001b[33m\"\u001b[39m\u001b[33mWindows\u001b[39m\u001b[33m\"\u001b[39m]:\n\u001b[32m--> \u001b[39m\u001b[32m179\u001b[39m         \u001b[38;5;28;01mraise\u001b[39;00m WeaviateStartUpError(\n\u001b[32m    180\u001b[39m             \u001b[33mf\u001b[39m\u001b[33m\"\"\"\u001b[39m\u001b[38;5;132;01m{\u001b[39;00mplatform.system()\u001b[38;5;132;01m}\u001b[39;00m\u001b[33m is not supported with EmbeddedDB. Please upvote this feature request if you want\u001b[39m\n\u001b[32m    181\u001b[39m \u001b[33m             this: https://github.com/weaviate/weaviate/issues/3315\u001b[39m\u001b[33m\"\"\"\u001b[39m  \u001b[38;5;66;03m# noqa: E231\u001b[39;00m\n\u001b[32m    182\u001b[39m         )\n",
      "\u001b[31mWeaviateStartUpError\u001b[39m: Windows is not supported with EmbeddedDB. Please upvote this feature request if you want\n                 this: https://github.com/weaviate/weaviate/issues/3315"
     ]
    }
   ],
   "source": [
    "load_dotenv()  # Load environment variables from .env file\n",
    "weaviate_version = \"4.17.0\" # Replace with the version you want to use\n",
    "\n",
    "client = weaviate.connect_to_embedded(\n",
    "    version=weaviate_version,  # e.g. version=\"1.33.0\"\n",
    "    headers={\n",
    "        \"X-OpenAI-Api-Key\": os.getenv(\"OPENAI_APIKEY\")  # Replace with your API key\n",
    "    },\n",
    "    environment_variables={\"LOG_LEVEL\": \"error\"}  # Reduce amount of logs\n",
    ")\n",
    "\n",
    "# Add your client code here."
   ]
  },
  {
   "cell_type": "code",
   "execution_count": null,
   "id": "694b049f",
   "metadata": {},
   "outputs": [],
   "source": [
    "client.is_ready()\n"
   ]
  }
 ],
 "metadata": {
  "kernelspec": {
   "display_name": ".venv",
   "language": "python",
   "name": "python3"
  },
  "language_info": {
   "codemirror_mode": {
    "name": "ipython",
    "version": 3
   },
   "file_extension": ".py",
   "mimetype": "text/x-python",
   "name": "python",
   "nbconvert_exporter": "python",
   "pygments_lexer": "ipython3",
   "version": "3.13.1"
  }
 },
 "nbformat": 4,
 "nbformat_minor": 5
}
